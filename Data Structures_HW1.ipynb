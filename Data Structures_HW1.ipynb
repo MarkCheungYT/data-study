{
 "cells": [
  {
   "cell_type": "code",
   "execution_count": null,
   "id": "aa0f19fb-c5b5-4027-af18-da333d6e90b3",
   "metadata": {},
   "outputs": [],
   "source": [
    "#all elements are positive integer\n",
    "#all elements exist twice except one e.g [1,4,6,7,5,4,6,1,7] -> 5 and output the single occured element\n",
    "my_list = [1,4,6,7,5,4,6,1,7,8]\n",
    "\n",
    "def check_list(arg):\n",
    "    single=[]\n",
    "    for i in arg:\n",
    "        if arg.count(i) == 1:\n",
    "            single.append(i)\n",
    "    print(single)\n",
    "check_list(my_list)"
   ]
  }
 ],
 "metadata": {
  "kernelspec": {
   "display_name": "Python 3 (ipykernel)",
   "language": "python",
   "name": "python3"
  },
  "language_info": {
   "codemirror_mode": {
    "name": "ipython",
    "version": 3
   },
   "file_extension": ".py",
   "mimetype": "text/x-python",
   "name": "python",
   "nbconvert_exporter": "python",
   "pygments_lexer": "ipython3",
   "version": "3.10.9"
  }
 },
 "nbformat": 4,
 "nbformat_minor": 5
}
