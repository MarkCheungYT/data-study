{
 "cells": [
  {
   "cell_type": "code",
   "execution_count": 3,
   "id": "9774b1fb-9ff6-4e1f-aa64-34456c8ad358",
   "metadata": {},
   "outputs": [],
   "source": [
    "#Exercise 1\n",
    "#Write a function to extract all even number elemets to a new list. \n",
    "#If the input list is [1,6,8,4,7,9,10,15,16,18], the output list should be [6,8,4,10,16,18]"
   ]
  },
  {
   "cell_type": "code",
   "execution_count": null,
   "id": "131e16fc-5b4f-4ef1-9a3b-cbcfee8ae7f5",
   "metadata": {},
   "outputs": [],
   "source": [
    "def extract_even():\n",
    "    # creating an empty list\n",
    "    input_list = []\n",
    "    even_list=[]\n",
    "    # number of elements as input\n",
    "    n = int(input(\"Enter number of elements : \"))\n",
    "\n",
    "    # iterating till the range\n",
    "    for i in range(0, n):\n",
    "        ele = int(input())\n",
    "        # adding the element\n",
    "        input_list.append(ele)\n",
    "    print(input_list)\n",
    "    for i in input_list:\n",
    "        if i%2==0:\n",
    "            even_list.append(i)\n",
    "    print(even_list)"
   ]
  },
  {
   "cell_type": "code",
   "execution_count": 2,
   "id": "f93f59f5-b5ee-4f37-8bd0-9b7f7a4ff488",
   "metadata": {},
   "outputs": [
    {
     "name": "stdin",
     "output_type": "stream",
     "text": [
      "Enter number of elements :  5\n",
      " 2\n",
      " 4\n",
      " 5\n",
      " 8\n",
      " 7\n"
     ]
    },
    {
     "name": "stdout",
     "output_type": "stream",
     "text": [
      "[2, 4, 5, 8, 7]\n",
      "[2, 4, 8]\n"
     ]
    }
   ],
   "source": [
    "extract_even()"
   ]
  },
  {
   "cell_type": "code",
   "execution_count": null,
   "id": "8cb9b01f-6d6b-4a3a-9ffd-2327927d44c9",
   "metadata": {},
   "outputs": [],
   "source": [
    "#Exercise 2\n",
    "#Write a function to check if a user input string is palindrome. \n",
    "#(A palindrome is a string that reads the same forwards and backwards.) \n",
    "#Example: Anna, Level, Madam, Mom are palindrom"
   ]
  },
  {
   "cell_type": "code",
   "execution_count": 4,
   "id": "8a8bac6b-0751-42f4-9b97-9113b08306a7",
   "metadata": {},
   "outputs": [],
   "source": [
    "def check_palindrome(check_word):\n",
    "    a=check_word.lower()\n",
    "    b=[]\n",
    "    c=[]\n",
    "    for i in a:\n",
    "        b.append(i)\n",
    "    print (b)\n",
    "\n",
    "    #for i in range(0:len(a)):\n",
    "    #len(a)\n",
    "    #len(b)\n",
    "\n",
    "    for i in range(0, len(b)):\n",
    "        c.insert(i,b[len(b)-1-i])\n",
    "    print (c)\n",
    "\n",
    "    if b==c:\n",
    "        print (f'{check_word} is a palindrome')\n",
    "    else:\n",
    "        print (f'{check_word} is not a palindrome')"
   ]
  },
  {
   "cell_type": "code",
   "execution_count": 5,
   "id": "e51c02a8-188e-4a48-8b67-2fb961b7383e",
   "metadata": {},
   "outputs": [
    {
     "name": "stdout",
     "output_type": "stream",
     "text": [
      "['b', 'a', 'b', 'a']\n",
      "['a', 'b', 'a', 'b']\n",
      "Baba is not a palindrome\n"
     ]
    }
   ],
   "source": [
    "check_palindrome(\"Baba\")"
   ]
  },
  {
   "cell_type": "code",
   "execution_count": 6,
   "id": "3fd76fc8-89c4-45e5-bcfa-8dfd0a63daec",
   "metadata": {},
   "outputs": [
    {
     "name": "stdout",
     "output_type": "stream",
     "text": [
      "['m', 'o', 'm']\n",
      "['m', 'o', 'm']\n",
      "Mom is a palindrome\n"
     ]
    }
   ],
   "source": [
    "check_palindrome(\"Mom\")"
   ]
  },
  {
   "cell_type": "code",
   "execution_count": null,
   "id": "f917eed3-7ed2-4405-9e36-a00b6eb9ed8e",
   "metadata": {},
   "outputs": [],
   "source": [
    "#Exercise 3\n",
    "#Write a function that takes a list and returns a new list that contains all the elements of the first list with no duplicates."
   ]
  },
  {
   "cell_type": "code",
   "execution_count": 7,
   "id": "88970450-e203-4b15-8412-e05a0ab07bed",
   "metadata": {},
   "outputs": [
    {
     "name": "stdout",
     "output_type": "stream",
     "text": [
      "['a', 'b', 'c']\n"
     ]
    }
   ],
   "source": [
    "mylist = [\"a\", \"b\", \"a\", \"c\", \"c\"]\n",
    "mylist = list(dict.fromkeys(mylist))\n",
    "print(mylist)"
   ]
  },
  {
   "cell_type": "code",
   "execution_count": null,
   "id": "ca69c09e-4eda-4b14-8921-5cbd29e29c7d",
   "metadata": {},
   "outputs": [],
   "source": [
    "#Exercise 4\n",
    "#Write a function that takes two lists and returns True if they have at least one common member."
   ]
  },
  {
   "cell_type": "code",
   "execution_count": 8,
   "id": "f76166e4-58c5-4287-bd35-4db21897e555",
   "metadata": {},
   "outputs": [],
   "source": [
    "def common_member():\n",
    "    a=[1,2,2,3,4]\n",
    "    b=[5,6,7,8]\n",
    "    for i in range(0,len(a)):\n",
    "        for j in range(0,len(b)):\n",
    "            if a[i]==b[j]:\n",
    "                return True\n",
    "                break\n",
    "            else:\n",
    "                return False"
   ]
  },
  {
   "cell_type": "code",
   "execution_count": 9,
   "id": "0cf52a86-efe8-42ae-8015-b89c97081f8a",
   "metadata": {},
   "outputs": [
    {
     "data": {
      "text/plain": [
       "False"
      ]
     },
     "execution_count": 9,
     "metadata": {},
     "output_type": "execute_result"
    }
   ],
   "source": [
    "common_member()"
   ]
  },
  {
   "cell_type": "code",
   "execution_count": null,
   "id": "3fac9576-f720-4bd0-af9b-c7af482952be",
   "metadata": {},
   "outputs": [],
   "source": []
  }
 ],
 "metadata": {
  "kernelspec": {
   "display_name": "Python 3 (ipykernel)",
   "language": "python",
   "name": "python3"
  },
  "language_info": {
   "codemirror_mode": {
    "name": "ipython",
    "version": 3
   },
   "file_extension": ".py",
   "mimetype": "text/x-python",
   "name": "python",
   "nbconvert_exporter": "python",
   "pygments_lexer": "ipython3",
   "version": "3.10.9"
  }
 },
 "nbformat": 4,
 "nbformat_minor": 5
}
