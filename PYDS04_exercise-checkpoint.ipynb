{
 "cells": [
  {
   "cell_type": "markdown",
   "id": "393662da-2fe0-4449-bc0a-574c38704136",
   "metadata": {},
   "source": [
    "(*unhide hidden cell for tips*)"
   ]
  },
  {
   "cell_type": "markdown",
   "id": "e2be19ed-8f7f-4040-9dc6-c5d970d1cec5",
   "metadata": {
    "tags": []
   },
   "source": [
    "### Exercise 1\n",
    "Write a Python program to get the Fibonacci series between 0 to i. i has to be >= 1 and is input by user. The Fibonnaci seqence is a sequence of numbers where the next number in the sequence is the sum of the previous two numbers in the sequence. The sequence looks like this: 1, 1, 2, 3, 5, 8, 13, …\n",
    "\n",
    "Example:\n",
    "* Input: 10\n",
    "* Output: [1, 1, 2, 3, 5, 8, 13, 21, 34, 55]"
   ]
  },
  {
   "cell_type": "code",
   "execution_count": null,
   "id": "7918b7ca-471d-4fa3-bc4e-168e37055ce4",
   "metadata": {
    "jupyter": {
     "source_hidden": true
    },
    "tags": []
   },
   "outputs": [],
   "source": [
    "# Input: 3\n",
    "# Output: [1,1,2]\n",
    "\n",
    "# loop\n",
    "# l = [1... l[i-2], l[i-1], l[i], ...]\n",
    "# l[i] = l[i-2] + l[i-1]\n",
    "\n",
    "# what about when i = 1, l[1]? l[0]?\n",
    "\n",
    "# return l"
   ]
  },
  {
   "cell_type": "code",
   "execution_count": 7,
   "id": "941d4ae7-0870-4ce3-9bcc-88be353ef427",
   "metadata": {},
   "outputs": [
    {
     "data": {
      "text/plain": [
       "[1, 1, 2]"
      ]
     },
     "execution_count": 7,
     "metadata": {},
     "output_type": "execute_result"
    }
   ],
   "source": [
    "i=[]\n",
    "i.insert(0,1)\n",
    "i.insert(1,1)\n",
    "i.insert(2,i[1]+i[0])\n",
    "i\n",
    "#i.insert(n,i[n-1]+i[n-2])\n",
    "\n"
   ]
  },
  {
   "cell_type": "code",
   "execution_count": 5,
   "id": "9fc92387-d5a5-449e-b6ff-1f61e90db84b",
   "metadata": {},
   "outputs": [
    {
     "name": "stdin",
     "output_type": "stream",
     "text": [
      "Please enter a number 5\n"
     ]
    },
    {
     "name": "stdout",
     "output_type": "stream",
     "text": [
      "[1, 1, 2, 3, 5]\n"
     ]
    }
   ],
   "source": [
    "def Fibonacci(n=input(\"Please enter a number\")):\n",
    "    new_list=[]\n",
    "    if n==1:\n",
    "        new_list=[1]\n",
    "    elif n==2:\n",
    "        new_list=[1,1]\n",
    "    else:\n",
    "        new_list=[1,1]\n",
    "        for i in range(2,n):\n",
    "            new_list.append(new_list[i-1]+new_list[i-2])\n",
    "    print (new_list)\n",
    "Fibonacci(5)        "
   ]
  },
  {
   "cell_type": "markdown",
   "id": "df985ac0-fb8e-4caa-8e8c-ebfef1646b1a",
   "metadata": {},
   "source": [
    "### Exercise 2\n",
    "Write a program which can compute the factorial of a given number. \n",
    "And then write a program to return the series of factorials from 1 to n, given an input of integer n. The results should be printed in a comma-separated sequence on a single line. \n",
    "\n",
    "Example:\n",
    "* Input: 8\n",
    "* Output: [1, 1, 2, 6, 24, 120, 720, 5040, 40320]"
   ]
  },
  {
   "cell_type": "code",
   "execution_count": null,
   "id": "99ad6ebd-99bf-49b9-b43f-14939653e2a8",
   "metadata": {
    "jupyter": {
     "source_hidden": true
    },
    "tags": []
   },
   "outputs": [],
   "source": [
    "# factorial of 8 = 8*7*6*5*4*3*2*1\n",
    "# first part: get factorial of a number\n",
    "# second part: get factorial of each number in a list\n",
    "\n",
    "# first part:\n",
    "# i -> from 1 to i, multiply them together\n",
    "# what about if i == 0? factorial of 0 is 1\n",
    "\n",
    "# second part:\n",
    "# loop from 0 to input"
   ]
  },
  {
   "cell_type": "code",
   "execution_count": 10,
   "id": "48f3f891-4c69-4cb9-8f00-d8b051d5c5ae",
   "metadata": {},
   "outputs": [
    {
     "name": "stdin",
     "output_type": "stream",
     "text": [
      "Please enter a number 2\n"
     ]
    },
    {
     "name": "stdout",
     "output_type": "stream",
     "text": [
      "[1, 1, 2]\n"
     ]
    }
   ],
   "source": [
    "def factorial(n=int(input(\"Please enter a number\"))):\n",
    "    if n==0:\n",
    "        new_list=[1]\n",
    "    elif n==1:\n",
    "        new_list=[1,1]\n",
    "    else:\n",
    "        new_list=[1,1]\n",
    "        for i in range(2,n+1):\n",
    "            new_list.append(i*int(new_list[i-1]))\n",
    "    print (new_list)\n",
    "factorial()        "
   ]
  },
  {
   "cell_type": "markdown",
   "id": "71b994b3-b70d-439a-84bc-8f45ea65777b",
   "metadata": {},
   "source": [
    "### Exercise 3\n",
    "Write a function to find the longest common prefix string amongst an array of strings.\n",
    "\n",
    "If there is no common prefix, return an empty string \"\".\n",
    "\n",
    "Example 1:\n",
    "\n",
    "* Input: [\"flower\",\"flow\",\"flight\"]\n",
    "* Output: \"fl\"\n",
    "\n",
    "Example 2:\n",
    "\n",
    "* Input: [\"dog\",\"racecar\",\"car\"]\n",
    "* Output: \"\""
   ]
  },
  {
   "cell_type": "code",
   "execution_count": null,
   "id": "f97329f8-bc19-45ae-a02f-4016347702c5",
   "metadata": {
    "jupyter": {
     "source_hidden": true
    },
    "tags": []
   },
   "outputs": [],
   "source": [
    "# loop to check each item in list\n",
    "# question: start with 1 character, and then add more character if we find match\n",
    "# OR: start with a word, and then minus character if we find mismatch?\n",
    "\n",
    "# maybe one more loop check each string characters?"
   ]
  },
  {
   "cell_type": "code",
   "execution_count": 23,
   "id": "c4d24bb9-1d67-4c40-8736-cad0ddd915ca",
   "metadata": {},
   "outputs": [
    {
     "name": "stdin",
     "output_type": "stream",
     "text": [
      "Enter words on the list  apple ape apex\n"
     ]
    }
   ],
   "source": [
    "word_list=[str(n) for n in input('Enter words on the list ').split()] "
   ]
  },
  {
   "cell_type": "code",
   "execution_count": 24,
   "id": "9fd5e991-48b0-481a-b9f2-439abcc83959",
   "metadata": {},
   "outputs": [
    {
     "data": {
      "text/plain": [
       "['apple', 'ape', 'apex']"
      ]
     },
     "execution_count": 24,
     "metadata": {},
     "output_type": "execute_result"
    }
   ],
   "source": [
    "word_list"
   ]
  },
  {
   "cell_type": "code",
   "execution_count": 2,
   "id": "92eee472-b14e-40a1-90cf-aa291fae6067",
   "metadata": {},
   "outputs": [
    {
     "name": "stdout",
     "output_type": "stream",
     "text": [
      "The longest Common Prefix is : gee\n"
     ]
    }
   ],
   "source": [
    "# Python 3 program to find longest\n",
    "# common prefix of given array of words.\n",
    "def longestCommonPrefix( a):\n",
    "\t\n",
    "\tsize = len(a)\n",
    "\n",
    "\t# if size is 0, return empty string\n",
    "\tif (size == 0):\n",
    "\t\treturn \"\"\n",
    "\n",
    "\tif (size == 1):\n",
    "\t\treturn a[0]\n",
    "\n",
    "\t# sort the array of strings\n",
    "\ta.sort()\n",
    "\t\n",
    "\t# find the minimum length from\n",
    "\t# first and last string\n",
    "    #apple ape end=3 size=2\n",
    "\tend = min(len(a[0]), len(a[size - 1]))\n",
    "\n",
    "\t# find the common prefix between\n",
    "\t# the first and last string\n",
    "\ti = 0\n",
    "\twhile (i < end and\n",
    "\t\ta[0][i] == a[size - 1][i]):\n",
    "\t\ti += 1\n",
    "\n",
    "\tpre = a[0][0: i]\n",
    "\treturn pre\n",
    "\n",
    "# Driver Code\n",
    "if __name__ == \"__main__\":\n",
    "\n",
    "\tinput = [\"geeksforgeeks\", \"geeks\",\n",
    "\t\t\t\t\t\"geek\", \"geezer\"]\n",
    "\tprint(\"The longest Common Prefix is :\" ,\n",
    "\t\t\t\tlongestCommonPrefix(input))\n",
    "\n",
    "# This code is contributed by ita_c\n"
   ]
  },
  {
   "cell_type": "markdown",
   "id": "d741ce1b-7c14-432b-9d22-06e3c842d621",
   "metadata": {
    "tags": []
   },
   "source": [
    "### Exercise 4\n",
    "Given a list of numbers, return whether any two sums to k. For example, given [10, 15, 3, 7] and k of 17, return true since 10 + 7 is 17.\n",
    "\n",
    "Bonus: Can you do this in one pass?"
   ]
  },
  {
   "cell_type": "code",
   "execution_count": 2,
   "id": "9fdc241e-0603-4734-8b00-bbd3ae891cd4",
   "metadata": {},
   "outputs": [],
   "source": [
    "def sum():\n",
    "    #pyton 2\n",
    "    #numbers = [int(n) for n in raw_input('Enter numbers: ').split()]\n",
    "    #python 3\n",
    "    a=[int(n) for n in input('Enter numbers on the list ').split()] \n",
    "    if len(a)==1:\n",
    "        print(\"only 1 number on the list, No sum return\")\n",
    "        return\n",
    "    b=[]\n",
    "    for i in range(0,len(a)):\n",
    "       for j in range(0,i):\n",
    "            b.append (a[i]+a[j])\n",
    "    print(b)\n",
    "    k=int(input(\"Check input is any 2 numbers on the list\"))\n",
    "    if k in b:\n",
    "        return True\n",
    "    else:\n",
    "        return False"
   ]
  },
  {
   "cell_type": "code",
   "execution_count": 21,
   "id": "22f8262f-3ee7-4606-a026-afe5d9fa46fc",
   "metadata": {},
   "outputs": [
    {
     "name": "stdin",
     "output_type": "stream",
     "text": [
      "Enter numbers on the list  2\n"
     ]
    },
    {
     "name": "stdout",
     "output_type": "stream",
     "text": [
      "only 1 number on the list, No sum return\n"
     ]
    }
   ],
   "source": [
    "sum()"
   ]
  },
  {
   "cell_type": "code",
   "execution_count": 22,
   "id": "91ec9db3-d760-4581-96f3-48bcb5bf6686",
   "metadata": {},
   "outputs": [
    {
     "name": "stdin",
     "output_type": "stream",
     "text": [
      "Enter numbers on the list  2 3 4\n"
     ]
    },
    {
     "name": "stdout",
     "output_type": "stream",
     "text": [
      "[5, 6, 7]\n"
     ]
    },
    {
     "name": "stdin",
     "output_type": "stream",
     "text": [
      "Check input is any 2 numbers on the list 3\n"
     ]
    },
    {
     "data": {
      "text/plain": [
       "False"
      ]
     },
     "execution_count": 22,
     "metadata": {},
     "output_type": "execute_result"
    }
   ],
   "source": [
    "sum()"
   ]
  },
  {
   "cell_type": "code",
   "execution_count": 3,
   "id": "c6a40381-7296-4af5-a0c7-51d030a973a4",
   "metadata": {},
   "outputs": [
    {
     "name": "stdin",
     "output_type": "stream",
     "text": [
      "Enter numbers on the list  2 4 4 5\n"
     ]
    },
    {
     "name": "stdout",
     "output_type": "stream",
     "text": [
      "[6, 6, 8, 7, 9, 9]\n"
     ]
    },
    {
     "name": "stdin",
     "output_type": "stream",
     "text": [
      "Check input is any 2 numbers on the list 5\n"
     ]
    },
    {
     "data": {
      "text/plain": [
       "False"
      ]
     },
     "execution_count": 3,
     "metadata": {},
     "output_type": "execute_result"
    }
   ],
   "source": [
    "sum()"
   ]
  },
  {
   "cell_type": "code",
   "execution_count": null,
   "id": "2e739b3e-bceb-4ca2-a813-be28d6957f44",
   "metadata": {},
   "outputs": [],
   "source": []
  }
 ],
 "metadata": {
  "kernelspec": {
   "display_name": "Python 3 (ipykernel)",
   "language": "python",
   "name": "python3"
  },
  "language_info": {
   "codemirror_mode": {
    "name": "ipython",
    "version": 3
   },
   "file_extension": ".py",
   "mimetype": "text/x-python",
   "name": "python",
   "nbconvert_exporter": "python",
   "pygments_lexer": "ipython3",
   "version": "3.10.9"
  }
 },
 "nbformat": 4,
 "nbformat_minor": 5
}
