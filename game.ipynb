{
 "cells": [
  {
   "cell_type": "code",
   "execution_count": 1,
   "id": "ef9b9d54-b162-434e-90b3-6d916c3f1668",
   "metadata": {},
   "outputs": [],
   "source": [
    "def game1(round):\n",
    "#round is a odd integer, win 2 in 3, win 3 in 5...\n",
    "    i=1\n",
    "    player_win_count=0\n",
    "    computer_win_count=0\n",
    "    \n",
    "    while i<=round:\n",
    "    \n",
    "# computer choose randomly\n",
    "        import random\n",
    "\n",
    "        choices = ['rock', 'paper', 'scissors']\n",
    "        computer_choice = random.choice(choices)\n",
    "\n",
    "# user input\n",
    "        player_choice=input(\"Please enter either one:rock,paper or scissors\")\n",
    "        if player_choice in choices:\n",
    "            print (f\"player choose:{player_choice} and computer choose:{computer_choice}\")    \n",
    "    \n",
    "# check who wins that round\n",
    "            if computer_choice==player_choice:\n",
    "                print (\"draw\")\n",
    "            elif (computer_choice==\"rock\" and player_choice==\"paper\") or (computer_choice==\"scissors\" and player_choice==\"rock\") or (computer_choice==\"paper\" and player_choice==\"scissors\"):\n",
    "                print(f\"Player win game{i}\")\n",
    "                i+=1\n",
    "                player_win_count+=1\n",
    "                if player_win_count==(round+1)/2:\n",
    "                    print (\"Player win the whole game!\")\n",
    "                    break\n",
    "            else:\n",
    "                print(f\"Computer win game{i}\")\n",
    "                i+=1\n",
    "                computer_win_count+=1\n",
    "                if computer_win_count==(round+1)/2:\n",
    "                    print(\"Computer win the whole game!\")\n",
    "                    break\n",
    "        else:    \n",
    "            print(\"Please enter again!\")\n",
    "# loop 3 rounds\n",
    "# -> if draw, repeat that round / do not count that round\n",
    "\n",
    "# count number of wins"
   ]
  },
  {
   "cell_type": "code",
   "execution_count": 3,
   "id": "6bc44b18-dc90-4f8f-b609-0f0d1f45f9d4",
   "metadata": {},
   "outputs": [
    {
     "name": "stdin",
     "output_type": "stream",
     "text": [
      "Please enter either one:rock,paper or scissors rock\n"
     ]
    },
    {
     "name": "stdout",
     "output_type": "stream",
     "text": [
      "player choose:rock and computer choose:scissors\n",
      "Player win game1\n"
     ]
    },
    {
     "name": "stdin",
     "output_type": "stream",
     "text": [
      "Please enter either one:rock,paper or scissors rock\n"
     ]
    },
    {
     "name": "stdout",
     "output_type": "stream",
     "text": [
      "player choose:rock and computer choose:rock\n",
      "draw\n"
     ]
    },
    {
     "name": "stdin",
     "output_type": "stream",
     "text": [
      "Please enter either one:rock,paper or scissors rock\n"
     ]
    },
    {
     "name": "stdout",
     "output_type": "stream",
     "text": [
      "player choose:rock and computer choose:paper\n",
      "Computer win game2\n"
     ]
    },
    {
     "name": "stdin",
     "output_type": "stream",
     "text": [
      "Please enter either one:rock,paper or scissors rock\n"
     ]
    },
    {
     "name": "stdout",
     "output_type": "stream",
     "text": [
      "player choose:rock and computer choose:paper\n",
      "Computer win game3\n",
      "Computer win the whole game!\n"
     ]
    }
   ],
   "source": [
    "game1(3)"
   ]
  },
  {
   "cell_type": "code",
   "execution_count": null,
   "id": "a8e64813-3d32-4457-b36b-d3b49ec8e08f",
   "metadata": {},
   "outputs": [],
   "source": []
  }
 ],
 "metadata": {
  "kernelspec": {
   "display_name": "Python 3 (ipykernel)",
   "language": "python",
   "name": "python3"
  },
  "language_info": {
   "codemirror_mode": {
    "name": "ipython",
    "version": 3
   },
   "file_extension": ".py",
   "mimetype": "text/x-python",
   "name": "python",
   "nbconvert_exporter": "python",
   "pygments_lexer": "ipython3",
   "version": "3.10.9"
  }
 },
 "nbformat": 4,
 "nbformat_minor": 5
}
