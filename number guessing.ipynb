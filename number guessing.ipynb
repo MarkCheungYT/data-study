{
 "cells": [
  {
   "cell_type": "code",
   "execution_count": 7,
   "id": "d15488b5-68a9-4e43-b810-31193d49aede",
   "metadata": {},
   "outputs": [
    {
     "name": "stdout",
     "output_type": "stream",
     "text": [
      "2\n"
     ]
    }
   ],
   "source": [
    "import random\n",
    "computer_choice=random.randint(1,99)\n",
    "print (computer_choice)"
   ]
  },
  {
   "cell_type": "code",
   "execution_count": 3,
   "id": "cdcdb185-bd64-4b3c-909e-13bc5e481236",
   "metadata": {},
   "outputs": [
    {
     "name": "stdout",
     "output_type": "stream",
     "text": [
      "83\n"
     ]
    },
    {
     "name": "stdin",
     "output_type": "stream",
     "text": [
      "please input a number (1-99) 80\n"
     ]
    },
    {
     "name": "stdout",
     "output_type": "stream",
     "text": [
      "Not match, Please try again\n"
     ]
    },
    {
     "name": "stdin",
     "output_type": "stream",
     "text": [
      "please input a number (81-99) 87\n"
     ]
    },
    {
     "name": "stdout",
     "output_type": "stream",
     "text": [
      "Not match, Please try again\n"
     ]
    },
    {
     "name": "stdin",
     "output_type": "stream",
     "text": [
      "please input a number (81-86) 83\n"
     ]
    },
    {
     "name": "stdout",
     "output_type": "stream",
     "text": [
      "Bingo\n"
     ]
    }
   ],
   "source": [
    "# Range: 1 - 99 (inclusive)\n",
    "\n",
    "# system generate an answer -> random number\n",
    "import random\n",
    "computer_choice=random.randint(1,99)\n",
    "print (computer_choice)\n",
    "\n",
    "a=1\n",
    "b=99\n",
    "trial=0\n",
    "while True:\n",
    "    player_choice=int(input(f\"please input a number ({a}-{b})\"))\n",
    "    r=range(a,b+1)\n",
    "# user input 1 number, check if the number within range\n",
    "    if player_choice in r:\n",
    "        #print (\"In range\")\n",
    "    # check input match answer or not\n",
    "        if computer_choice==player_choice:\n",
    "            print (\"Bingo\")\n",
    "            break\n",
    "        else:\n",
    "            trial+=1\n",
    "            if trial==5:\n",
    "                print (\"Use all trial,Game over\")\n",
    "                break\n",
    "            else:\n",
    "                print (\"Not match, Please try again\")\n",
    "                if player_choice<computer_choice:\n",
    "                    a=player_choice+1\n",
    "                if player_choice>computer_choice:\n",
    "                    b=player_choice-1                \n",
    "                continue\n",
    "            \n",
    "    else:\n",
    "        continue    \n",
    "# if yes then it's finished\n",
    "# if not, Range update with input number, e.g. input 45, from 1-99 to 1-45\n",
    "# set a limit: how many times in maximum can a user guess"
   ]
  },
  {
   "cell_type": "code",
   "execution_count": 1,
   "id": "2496989f-1531-47c0-b382-a6217fdfb5b7",
   "metadata": {},
   "outputs": [
    {
     "data": {
      "text/plain": [
       "False"
      ]
     },
     "execution_count": 1,
     "metadata": {},
     "output_type": "execute_result"
    }
   ],
   "source": [
    "r = range(1, 4)\n",
    "4 in r"
   ]
  },
  {
   "cell_type": "code",
   "execution_count": null,
   "id": "bbdbc5e2-1cd8-48ad-971a-d487b7c0f86b",
   "metadata": {},
   "outputs": [],
   "source": []
  }
 ],
 "metadata": {
  "kernelspec": {
   "display_name": "Python 3 (ipykernel)",
   "language": "python",
   "name": "python3"
  },
  "language_info": {
   "codemirror_mode": {
    "name": "ipython",
    "version": 3
   },
   "file_extension": ".py",
   "mimetype": "text/x-python",
   "name": "python",
   "nbconvert_exporter": "python",
   "pygments_lexer": "ipython3",
   "version": "3.10.9"
  }
 },
 "nbformat": 4,
 "nbformat_minor": 5
}
